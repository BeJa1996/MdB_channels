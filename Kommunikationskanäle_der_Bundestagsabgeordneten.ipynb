{
 "cells": [
  {
   "cell_type": "code",
   "execution_count": 1,
   "id": "f734be8a-0e27-418a-8a55-9136e271d635",
   "metadata": {},
   "outputs": [],
   "source": [
    "# accessing APIs and URLs\n",
    "import requests\n",
    "\n",
    "# handling of JSON responses\n",
    "import json\n",
    "from pprint import pprint\n",
    "from pandas import json_normalize\n",
    "\n",
    "# general data handling\n",
    "# note: you need to additionally install geopy\n",
    "import geopandas as gpd\n",
    "import pandas as pd\n",
    "\n",
    "# static web scraping\n",
    "from urllib.request import urlopen\n",
    "from lxml.html import parse, fromstring\n",
    "\n",
    "# selenium\n",
    "from selenium import webdriver\n",
    "from selenium.webdriver.common.keys import Keys\n",
    "from selenium.webdriver.support.ui import WebDriverWait\n",
    "from selenium.webdriver.support import expected_conditions as EC\n",
    "from selenium.webdriver.common.by import By\n",
    "\n",
    "import time\n",
    "import seaborn as sns\n",
    "import matplotlib.pyplot as plt"
   ]
  },
  {
   "cell_type": "markdown",
   "id": "88204d49-c8ad-43ec-af0d-bf93715e1050",
   "metadata": {},
   "source": [
    "Scraping the Data from the Web"
   ]
  },
  {
   "cell_type": "raw",
   "id": "afa234bf-96f3-46f4-a746-2f78ddf5140c",
   "metadata": {},
   "source": [
    "r = requests.get(\"https://www.bundestag.de/static/appdata/sitzplan/data.json\")\n",
    "data = r.json()\n",
    "del data['-1']\n",
    "data"
   ]
  },
  {
   "cell_type": "raw",
   "id": "c17c24c6-c497-4b03-ab58-6d2b7af525f3",
   "metadata": {},
   "source": [
    "href = []\n",
    "for element in data.values():\n",
    "   href.append(element['href'])\n",
    "href"
   ]
  },
  {
   "cell_type": "raw",
   "id": "699863a6-30f2-41f4-b4b9-70ce9dd2190f",
   "metadata": {},
   "source": [
    "l = []\n",
    "done = []\n",
    "for link in href:\n",
    "    print(link)\n",
    "    if link not in done:\n",
    "        url = \"https://www.bundestag.de\" + link\n",
    "        print(url)\n",
    "        try:\n",
    "            tree = parse(urlopen(url))\n",
    "        except:\n",
    "            print('First Attempt failed')\n",
    "            time.sleep(3)\n",
    "            tree = parse(urlopen(url))   \n",
    "        l.append({\n",
    "            'Name and Party': [e.text_content().strip() for e in tree.xpath(\"//h3\")][0],\n",
    "            'Bundestag Link': link,\n",
    "            'Social Media': [e.text_content().strip() for e in tree.xpath(\"//*[@id='bt-kontakt-collapse']//a\")][1:],\n",
    "            'Links': [e.attrib[\"href\"] for e in tree.xpath(\"//*[@id='bt-kontakt-collapse']//a\")][1:]\n",
    "        })\n",
    "        done.append(link)\n",
    "df = pd.DataFrame(l)\n",
    "df.head()\n",
    "df.to_csv(\"mdb_socialmedia_20240306.csv\")"
   ]
  },
  {
   "cell_type": "code",
   "execution_count": 2,
   "id": "19b10f31-d752-4c16-97b9-8903585af7cb",
   "metadata": {},
   "outputs": [
    {
     "data": {
      "text/html": [
       "<div>\n",
       "<style scoped>\n",
       "    .dataframe tbody tr th:only-of-type {\n",
       "        vertical-align: middle;\n",
       "    }\n",
       "\n",
       "    .dataframe tbody tr th {\n",
       "        vertical-align: top;\n",
       "    }\n",
       "\n",
       "    .dataframe thead th {\n",
       "        text-align: right;\n",
       "    }\n",
       "</style>\n",
       "<table border=\"1\" class=\"dataframe\">\n",
       "  <thead>\n",
       "    <tr style=\"text-align: right;\">\n",
       "      <th></th>\n",
       "      <th>Name</th>\n",
       "      <th>Party</th>\n",
       "      <th>Social Media</th>\n",
       "      <th>Links</th>\n",
       "    </tr>\n",
       "  </thead>\n",
       "  <tbody>\n",
       "    <tr>\n",
       "      <th>0</th>\n",
       "      <td>Markus Frohnmaier</td>\n",
       "      <td>AfD</td>\n",
       "      <td></td>\n",
       "      <td></td>\n",
       "    </tr>\n",
       "    <tr>\n",
       "      <th>1</th>\n",
       "      <td>Judith Skudelny</td>\n",
       "      <td>FDP</td>\n",
       "      <td>Homepage</td>\n",
       "      <td>https://www.judith-skudelny.de/</td>\n",
       "    </tr>\n",
       "    <tr>\n",
       "      <th>1</th>\n",
       "      <td>Judith Skudelny</td>\n",
       "      <td>FDP</td>\n",
       "      <td>Facebook</td>\n",
       "      <td>https://www.facebook.com/judith.skudelny</td>\n",
       "    </tr>\n",
       "    <tr>\n",
       "      <th>2</th>\n",
       "      <td>Michael Grosse-Brömer</td>\n",
       "      <td>CDU/CSU</td>\n",
       "      <td>Homepage</td>\n",
       "      <td>http://www.m-grosse-broemer.de</td>\n",
       "    </tr>\n",
       "    <tr>\n",
       "      <th>2</th>\n",
       "      <td>Michael Grosse-Brömer</td>\n",
       "      <td>CDU/CSU</td>\n",
       "      <td>Facebook</td>\n",
       "      <td>https://www.facebook.com/MGrosseBroemer/</td>\n",
       "    </tr>\n",
       "    <tr>\n",
       "      <th>...</th>\n",
       "      <td>...</td>\n",
       "      <td>...</td>\n",
       "      <td>...</td>\n",
       "      <td>...</td>\n",
       "    </tr>\n",
       "    <tr>\n",
       "      <th>733</th>\n",
       "      <td>Stefan Schmidt</td>\n",
       "      <td>Bündnis 90/Die Grünen</td>\n",
       "      <td>Instagram</td>\n",
       "      <td>https://www.instagram.com/stefan_schmidt_mdb/</td>\n",
       "    </tr>\n",
       "    <tr>\n",
       "      <th>734</th>\n",
       "      <td>Brian Nickholz</td>\n",
       "      <td>SPD</td>\n",
       "      <td>Homepage</td>\n",
       "      <td>https://www.brian-nickholz.de</td>\n",
       "    </tr>\n",
       "    <tr>\n",
       "      <th>734</th>\n",
       "      <td>Brian Nickholz</td>\n",
       "      <td>SPD</td>\n",
       "      <td>X</td>\n",
       "      <td>https://twitter.com/BrianNickholz</td>\n",
       "    </tr>\n",
       "    <tr>\n",
       "      <th>734</th>\n",
       "      <td>Brian Nickholz</td>\n",
       "      <td>SPD</td>\n",
       "      <td>Instagram</td>\n",
       "      <td>https://www.instagram.com/briannickholz/</td>\n",
       "    </tr>\n",
       "    <tr>\n",
       "      <th>734</th>\n",
       "      <td>Brian Nickholz</td>\n",
       "      <td>SPD</td>\n",
       "      <td>Facebook</td>\n",
       "      <td>https://www.facebook.com/NickholzBrian/</td>\n",
       "    </tr>\n",
       "  </tbody>\n",
       "</table>\n",
       "<p>2776 rows × 4 columns</p>\n",
       "</div>"
      ],
      "text/plain": [
       "                      Name                  Party Social Media  \\\n",
       "0        Markus Frohnmaier                    AfD                \n",
       "1          Judith Skudelny                    FDP     Homepage   \n",
       "1          Judith Skudelny                    FDP     Facebook   \n",
       "2    Michael Grosse-Brömer                CDU/CSU     Homepage   \n",
       "2    Michael Grosse-Brömer                CDU/CSU     Facebook   \n",
       "..                     ...                    ...          ...   \n",
       "733         Stefan Schmidt  Bündnis 90/Die Grünen    Instagram   \n",
       "734         Brian Nickholz                    SPD     Homepage   \n",
       "734         Brian Nickholz                    SPD            X   \n",
       "734         Brian Nickholz                    SPD    Instagram   \n",
       "734         Brian Nickholz                    SPD     Facebook   \n",
       "\n",
       "                                             Links  \n",
       "0                                                   \n",
       "1                  https://www.judith-skudelny.de/  \n",
       "1         https://www.facebook.com/judith.skudelny  \n",
       "2                   http://www.m-grosse-broemer.de  \n",
       "2         https://www.facebook.com/MGrosseBroemer/  \n",
       "..                                             ...  \n",
       "733  https://www.instagram.com/stefan_schmidt_mdb/  \n",
       "734                  https://www.brian-nickholz.de  \n",
       "734              https://twitter.com/BrianNickholz  \n",
       "734       https://www.instagram.com/briannickholz/  \n",
       "734        https://www.facebook.com/NickholzBrian/  \n",
       "\n",
       "[2776 rows x 4 columns]"
      ]
     },
     "execution_count": 2,
     "metadata": {},
     "output_type": "execute_result"
    }
   ],
   "source": [
    "df = pd.read_csv(\"mdb_socialmedia_20240306.csv\")\n",
    "df[['Name', 'Party']] = df['Name and Party'].str.split(', ', expand=True)\n",
    "df = df.drop(columns=['Name and Party'])\n",
    "df[\"Social Media\"] = df[\"Social Media\"].str.strip('[').str.strip(']').str.split(', ')\n",
    "df[\"Links\"] = df[\"Links\"].str.strip('[').str.strip(']').str.split(', ')\n",
    "df = df[['Name','Party', 'Social Media', 'Links']]\n",
    "df_long = df.explode(['Social Media', 'Links'])\n",
    "df_long[\"Social Media\"] = df_long[\"Social Media\"].str.strip(\"'\").str.strip().astype(str)\n",
    "df_long[\"Links\"] = df_long['Links'].str.strip(\"'\").astype(str).str.strip().astype(str)\n",
    "df_long[\"Party\"] = df_long[\"Party\"].str.replace('\\n', '').str.strip('*').str.strip()\n",
    "df_long"
   ]
  },
  {
   "cell_type": "code",
   "execution_count": 3,
   "id": "17843e8c-d807-444d-8107-dcdae91d6995",
   "metadata": {},
   "outputs": [
    {
     "name": "stderr",
     "output_type": "stream",
     "text": [
      "/var/folders/tn/90jm_wh175q5jckf2wwg3z0r0000gn/T/ipykernel_4318/2648999776.py:11: SettingWithCopyWarning: \n",
      "A value is trying to be set on a copy of a slice from a DataFrame.\n",
      "Try using .loc[row_indexer,col_indexer] = value instead\n",
      "\n",
      "See the caveats in the documentation: https://pandas.pydata.org/pandas-docs/stable/user_guide/indexing.html#returning-a-view-versus-a-copy\n",
      "  df_long[df_long == ''] = None\n",
      "/var/folders/tn/90jm_wh175q5jckf2wwg3z0r0000gn/T/ipykernel_4318/2648999776.py:11: SettingWithCopyWarning: \n",
      "A value is trying to be set on a copy of a slice from a DataFrame\n",
      "\n",
      "See the caveats in the documentation: https://pandas.pydata.org/pandas-docs/stable/user_guide/indexing.html#returning-a-view-versus-a-copy\n",
      "  df_long[df_long == ''] = None\n"
     ]
    }
   ],
   "source": [
    "df_long['Social Media'] = df_long['Social Media'].replace(['Tik Tok', 'Tiktok'], 'TikTok')\n",
    "df_long['Social Media'] = df_long['Social Media'].replace(['Linkedin'], 'LinkedIn')\n",
    "df_long['Social Media'] = df_long['Social Media'].replace(['Insatgram', 'Instgram'], 'Instagram')\n",
    "df_long['Social Media'] = df_long['Social Media'].replace('X', 'Twitter')\n",
    "df_long['Social Media'] = df_long['Social Media'].replace(['Youtube', 'youtube'], 'YouTube')\n",
    "df_long['Social Media'] = df_long['Social Media'].replace(['felixbanaszak.de','karlheinz-busen.de', 'katharina-willkomm.de', 'homepage'], 'Homepage')\n",
    "df_long['Social Media'] = df_long['Social Media'].replace('sonstige Website', 'Mastodon')\n",
    "df_long['Social Media'] = df_long['Social Media'].replace('homepage', 'Homepage')\n",
    "df_long.loc[(df_long['Name'] == 'Valentin Abel') & (df_long['Social Media'] == 'Sonstige Website'),'Social Media'] = 'LinkedIn'\n",
    "df_long = df_long[df_long['Social Media'] != 'http://']\n",
    "df_long[df_long == ''] = None\n",
    "df_long = df_long.loc[df_long['Social Media'] != \"E-Mail\",:]"
   ]
  },
  {
   "cell_type": "code",
   "execution_count": 4,
   "id": "e07bcce7-3a82-41d4-92c7-746061233ce4",
   "metadata": {},
   "outputs": [
    {
     "data": {
      "text/plain": [
       "Social Media\n",
       "Bluesky               1\n",
       "Facebook            677\n",
       "Flickr                1\n",
       "Gettr                 5\n",
       "Homepage            703\n",
       "Instagram           594\n",
       "LinkedIn            127\n",
       "Mastodon              1\n",
       "Newsletter            1\n",
       "Sonstige Website      2\n",
       "Telegram             11\n",
       "TikTok               12\n",
       "Twitch                1\n",
       "Twitter             513\n",
       "Xing                  8\n",
       "YouTube              68\n",
       "Name: Name, dtype: int64"
      ]
     },
     "execution_count": 4,
     "metadata": {},
     "output_type": "execute_result"
    }
   ],
   "source": [
    "df_long.groupby(['Social Media'])['Name'].count()"
   ]
  },
  {
   "cell_type": "code",
   "execution_count": 5,
   "id": "7f4e863b-dee5-4ed8-b798-2caf8045010e",
   "metadata": {},
   "outputs": [
    {
     "data": {
      "text/html": [
       "<div>\n",
       "<style scoped>\n",
       "    .dataframe tbody tr th:only-of-type {\n",
       "        vertical-align: middle;\n",
       "    }\n",
       "\n",
       "    .dataframe tbody tr th {\n",
       "        vertical-align: top;\n",
       "    }\n",
       "\n",
       "    .dataframe thead th {\n",
       "        text-align: right;\n",
       "    }\n",
       "</style>\n",
       "<table border=\"1\" class=\"dataframe\">\n",
       "  <thead>\n",
       "    <tr style=\"text-align: right;\">\n",
       "      <th></th>\n",
       "      <th>Name</th>\n",
       "      <th>Party</th>\n",
       "      <th>Social Media</th>\n",
       "      <th>Links</th>\n",
       "    </tr>\n",
       "  </thead>\n",
       "  <tbody>\n",
       "    <tr>\n",
       "      <th>446</th>\n",
       "      <td>Leon Eckert</td>\n",
       "      <td>Bündnis 90/Die Grünen</td>\n",
       "      <td>Bluesky</td>\n",
       "      <td>https://www.bsky.app/profile/leon-eckert.de</td>\n",
       "    </tr>\n",
       "  </tbody>\n",
       "</table>\n",
       "</div>"
      ],
      "text/plain": [
       "            Name                  Party Social Media  \\\n",
       "446  Leon Eckert  Bündnis 90/Die Grünen      Bluesky   \n",
       "\n",
       "                                           Links  \n",
       "446  https://www.bsky.app/profile/leon-eckert.de  "
      ]
     },
     "execution_count": 5,
     "metadata": {},
     "output_type": "execute_result"
    }
   ],
   "source": [
    "df_long[df_long['Social Media'] == 'Bluesky']"
   ]
  },
  {
   "cell_type": "code",
   "execution_count": 6,
   "id": "22e81c40-ba52-4418-bafb-3b8a394c6691",
   "metadata": {},
   "outputs": [
    {
     "data": {
      "text/html": [
       "<div>\n",
       "<style scoped>\n",
       "    .dataframe tbody tr th:only-of-type {\n",
       "        vertical-align: middle;\n",
       "    }\n",
       "\n",
       "    .dataframe tbody tr th {\n",
       "        vertical-align: top;\n",
       "    }\n",
       "\n",
       "    .dataframe thead th {\n",
       "        text-align: right;\n",
       "    }\n",
       "</style>\n",
       "<table border=\"1\" class=\"dataframe\">\n",
       "  <thead>\n",
       "    <tr style=\"text-align: right;\">\n",
       "      <th></th>\n",
       "      <th>Name</th>\n",
       "      <th>Party</th>\n",
       "      <th>Social Media</th>\n",
       "      <th>Links</th>\n",
       "    </tr>\n",
       "  </thead>\n",
       "  <tbody>\n",
       "    <tr>\n",
       "      <th>597</th>\n",
       "      <td>Heike Brehmer</td>\n",
       "      <td>CDU/CSU</td>\n",
       "      <td>Flickr</td>\n",
       "      <td>https://www.flickr.com/photos/heikebrehmer</td>\n",
       "    </tr>\n",
       "  </tbody>\n",
       "</table>\n",
       "</div>"
      ],
      "text/plain": [
       "              Name    Party Social Media  \\\n",
       "597  Heike Brehmer  CDU/CSU       Flickr   \n",
       "\n",
       "                                          Links  \n",
       "597  https://www.flickr.com/photos/heikebrehmer  "
      ]
     },
     "execution_count": 6,
     "metadata": {},
     "output_type": "execute_result"
    }
   ],
   "source": [
    "df_long[df_long['Social Media'] == 'Flickr']"
   ]
  },
  {
   "cell_type": "code",
   "execution_count": 7,
   "id": "2ce7625e-3fb2-4c8e-88fe-a64393e44a65",
   "metadata": {},
   "outputs": [
    {
     "data": {
      "text/html": [
       "<div>\n",
       "<style scoped>\n",
       "    .dataframe tbody tr th:only-of-type {\n",
       "        vertical-align: middle;\n",
       "    }\n",
       "\n",
       "    .dataframe tbody tr th {\n",
       "        vertical-align: top;\n",
       "    }\n",
       "\n",
       "    .dataframe thead th {\n",
       "        text-align: right;\n",
       "    }\n",
       "</style>\n",
       "<table border=\"1\" class=\"dataframe\">\n",
       "  <thead>\n",
       "    <tr style=\"text-align: right;\">\n",
       "      <th></th>\n",
       "      <th>Name</th>\n",
       "      <th>Party</th>\n",
       "      <th>Social Media</th>\n",
       "      <th>Links</th>\n",
       "    </tr>\n",
       "  </thead>\n",
       "  <tbody>\n",
       "    <tr>\n",
       "      <th>408</th>\n",
       "      <td>Maik Außendorf</td>\n",
       "      <td>Bündnis 90/Die Grünen</td>\n",
       "      <td>Mastodon</td>\n",
       "      <td>https://gruene.social/web/accounts/56127</td>\n",
       "    </tr>\n",
       "  </tbody>\n",
       "</table>\n",
       "</div>"
      ],
      "text/plain": [
       "               Name                  Party Social Media  \\\n",
       "408  Maik Außendorf  Bündnis 90/Die Grünen     Mastodon   \n",
       "\n",
       "                                        Links  \n",
       "408  https://gruene.social/web/accounts/56127  "
      ]
     },
     "execution_count": 7,
     "metadata": {},
     "output_type": "execute_result"
    }
   ],
   "source": [
    "df_long[df_long['Social Media'] == 'Mastodon']"
   ]
  },
  {
   "cell_type": "code",
   "execution_count": 8,
   "id": "5ddba283-c2d8-44b2-8aa9-731d4650c1b2",
   "metadata": {},
   "outputs": [
    {
     "data": {
      "text/html": [
       "<div>\n",
       "<style scoped>\n",
       "    .dataframe tbody tr th:only-of-type {\n",
       "        vertical-align: middle;\n",
       "    }\n",
       "\n",
       "    .dataframe tbody tr th {\n",
       "        vertical-align: top;\n",
       "    }\n",
       "\n",
       "    .dataframe thead th {\n",
       "        text-align: right;\n",
       "    }\n",
       "</style>\n",
       "<table border=\"1\" class=\"dataframe\">\n",
       "  <thead>\n",
       "    <tr style=\"text-align: right;\">\n",
       "      <th></th>\n",
       "      <th>Name</th>\n",
       "      <th>Party</th>\n",
       "      <th>Social Media</th>\n",
       "      <th>Links</th>\n",
       "    </tr>\n",
       "  </thead>\n",
       "  <tbody>\n",
       "    <tr>\n",
       "      <th>244</th>\n",
       "      <td>Marja-Liisa Völlers</td>\n",
       "      <td>SPD</td>\n",
       "      <td>Newsletter</td>\n",
       "      <td>https://www.marjavoellers.de/newsletter-abonni...</td>\n",
       "    </tr>\n",
       "  </tbody>\n",
       "</table>\n",
       "</div>"
      ],
      "text/plain": [
       "                    Name Party Social Media  \\\n",
       "244  Marja-Liisa Völlers   SPD   Newsletter   \n",
       "\n",
       "                                                 Links  \n",
       "244  https://www.marjavoellers.de/newsletter-abonni...  "
      ]
     },
     "execution_count": 8,
     "metadata": {},
     "output_type": "execute_result"
    }
   ],
   "source": [
    "df_long[df_long['Social Media'] == 'Newsletter']"
   ]
  },
  {
   "cell_type": "code",
   "execution_count": 9,
   "id": "a65d7ea5-2c47-4541-aab5-46392099d318",
   "metadata": {},
   "outputs": [
    {
     "data": {
      "text/html": [
       "<div>\n",
       "<style scoped>\n",
       "    .dataframe tbody tr th:only-of-type {\n",
       "        vertical-align: middle;\n",
       "    }\n",
       "\n",
       "    .dataframe tbody tr th {\n",
       "        vertical-align: top;\n",
       "    }\n",
       "\n",
       "    .dataframe thead th {\n",
       "        text-align: right;\n",
       "    }\n",
       "</style>\n",
       "<table border=\"1\" class=\"dataframe\">\n",
       "  <thead>\n",
       "    <tr style=\"text-align: right;\">\n",
       "      <th></th>\n",
       "      <th>Name</th>\n",
       "      <th>Party</th>\n",
       "      <th>Social Media</th>\n",
       "      <th>Links</th>\n",
       "    </tr>\n",
       "  </thead>\n",
       "  <tbody>\n",
       "    <tr>\n",
       "      <th>485</th>\n",
       "      <td>Mario Brandenburg (Südpfalz)</td>\n",
       "      <td>FDP</td>\n",
       "      <td>Twitch</td>\n",
       "      <td>https://www.twitch.tv/mariobrandenburg</td>\n",
       "    </tr>\n",
       "  </tbody>\n",
       "</table>\n",
       "</div>"
      ],
      "text/plain": [
       "                             Name Party Social Media  \\\n",
       "485  Mario Brandenburg (Südpfalz)   FDP       Twitch   \n",
       "\n",
       "                                      Links  \n",
       "485  https://www.twitch.tv/mariobrandenburg  "
      ]
     },
     "execution_count": 9,
     "metadata": {},
     "output_type": "execute_result"
    }
   ],
   "source": [
    "df_long[df_long['Social Media'] == 'Twitch']"
   ]
  },
  {
   "cell_type": "code",
   "execution_count": 10,
   "id": "af9657d1-f61e-47dd-9941-5699e19e88df",
   "metadata": {},
   "outputs": [
    {
     "data": {
      "text/html": [
       "<div>\n",
       "<style scoped>\n",
       "    .dataframe tbody tr th:only-of-type {\n",
       "        vertical-align: middle;\n",
       "    }\n",
       "\n",
       "    .dataframe tbody tr th {\n",
       "        vertical-align: top;\n",
       "    }\n",
       "\n",
       "    .dataframe thead th {\n",
       "        text-align: right;\n",
       "    }\n",
       "</style>\n",
       "<table border=\"1\" class=\"dataframe\">\n",
       "  <thead>\n",
       "    <tr style=\"text-align: right;\">\n",
       "      <th></th>\n",
       "      <th>Name</th>\n",
       "      <th>Party</th>\n",
       "      <th>Social Media</th>\n",
       "      <th>Links</th>\n",
       "    </tr>\n",
       "  </thead>\n",
       "  <tbody>\n",
       "    <tr>\n",
       "      <th>55</th>\n",
       "      <td>Gerrit Huy</td>\n",
       "      <td>AfD</td>\n",
       "      <td>Gettr</td>\n",
       "      <td>https://www.gettr.com/user/gerrithuy</td>\n",
       "    </tr>\n",
       "    <tr>\n",
       "      <th>90</th>\n",
       "      <td>Norbert Kleinwächter</td>\n",
       "      <td>AfD</td>\n",
       "      <td>Gettr</td>\n",
       "      <td>https://https://gettr.com/user/kleinwaechter</td>\n",
       "    </tr>\n",
       "    <tr>\n",
       "      <th>160</th>\n",
       "      <td>Eugen Schmidt</td>\n",
       "      <td>AfD</td>\n",
       "      <td>Gettr</td>\n",
       "      <td>https://gettr.com/user/eugenschmidtmdb</td>\n",
       "    </tr>\n",
       "    <tr>\n",
       "      <th>175</th>\n",
       "      <td>Martin Sichert</td>\n",
       "      <td>AfD</td>\n",
       "      <td>Gettr</td>\n",
       "      <td>https://gettr.com/user/martinsichert</td>\n",
       "    </tr>\n",
       "    <tr>\n",
       "      <th>635</th>\n",
       "      <td>Roger Beckamp</td>\n",
       "      <td>AfD</td>\n",
       "      <td>Gettr</td>\n",
       "      <td>https://gettr.com/user/rogerbeckampmdb</td>\n",
       "    </tr>\n",
       "  </tbody>\n",
       "</table>\n",
       "</div>"
      ],
      "text/plain": [
       "                     Name Party Social Media  \\\n",
       "55             Gerrit Huy   AfD        Gettr   \n",
       "90   Norbert Kleinwächter   AfD        Gettr   \n",
       "160         Eugen Schmidt   AfD        Gettr   \n",
       "175        Martin Sichert   AfD        Gettr   \n",
       "635         Roger Beckamp   AfD        Gettr   \n",
       "\n",
       "                                            Links  \n",
       "55           https://www.gettr.com/user/gerrithuy  \n",
       "90   https://https://gettr.com/user/kleinwaechter  \n",
       "160        https://gettr.com/user/eugenschmidtmdb  \n",
       "175          https://gettr.com/user/martinsichert  \n",
       "635        https://gettr.com/user/rogerbeckampmdb  "
      ]
     },
     "execution_count": 10,
     "metadata": {},
     "output_type": "execute_result"
    }
   ],
   "source": [
    "df_long[df_long['Social Media'] == 'Gettr']"
   ]
  },
  {
   "cell_type": "code",
   "execution_count": 11,
   "id": "00da85ac-9b06-46ed-9e22-facb0731789d",
   "metadata": {},
   "outputs": [],
   "source": [
    "df_long.loc[:,'Social Media'] = df_long['Social Media'].replace(['Bluesky', 'Flickr', 'Mastodon', 'Newsletter', 'Twitch', 'Gettr', 'Sonstige Website'], 'Sonstige')\n",
    "df_long = df_long.loc[df_long['Social Media']!='Sonstige',:]"
   ]
  },
  {
   "cell_type": "code",
   "execution_count": 12,
   "id": "b71a5d00-8077-4716-800b-668d662ca99b",
   "metadata": {},
   "outputs": [
    {
     "data": {
      "text/plain": [
       "Social Media\n",
       "Homepage     703\n",
       "Facebook     677\n",
       "Instagram    594\n",
       "Twitter      513\n",
       "LinkedIn     127\n",
       "YouTube       68\n",
       "TikTok        12\n",
       "Telegram      11\n",
       "Xing           8\n",
       "Name: Name, dtype: int64"
      ]
     },
     "execution_count": 12,
     "metadata": {},
     "output_type": "execute_result"
    }
   ],
   "source": [
    "SM_counts = df_long.groupby(['Social Media'])['Name'].count().sort_values(ascending = False)\n",
    "SM_order = SM_counts.index.tolist()\n",
    "SM_counts"
   ]
  },
  {
   "cell_type": "code",
   "execution_count": 13,
   "id": "0871bd0f-6648-4cf4-87ce-d8b94f051992",
   "metadata": {},
   "outputs": [
    {
     "data": {
      "text/plain": [
       "<Axes: xlabel='Social Media'>"
      ]
     },
     "execution_count": 13,
     "metadata": {},
     "output_type": "execute_result"
    },
    {
     "data": {
      "image/png": "[encoded data removed]",
      "text/plain": [
       "<Figure size 640x480 with 1 Axes>"
      ]
     },
     "metadata": {},
     "output_type": "display_data"
    }
   ],
   "source": [
    "df_long.groupby(['Social Media'])['Name'].count().plot.bar()"
   ]
  },
  {
   "cell_type": "code",
   "execution_count": 14,
   "id": "fc895881-74c2-46f6-b834-8c9ce3191a6d",
   "metadata": {},
   "outputs": [
    {
     "data": {
      "text/html": [
       "<div>\n",
       "<style scoped>\n",
       "    .dataframe tbody tr th:only-of-type {\n",
       "        vertical-align: middle;\n",
       "    }\n",
       "\n",
       "    .dataframe tbody tr th {\n",
       "        vertical-align: top;\n",
       "    }\n",
       "\n",
       "    .dataframe thead th {\n",
       "        text-align: right;\n",
       "    }\n",
       "</style>\n",
       "<table border=\"1\" class=\"dataframe\">\n",
       "  <thead>\n",
       "    <tr style=\"text-align: right;\">\n",
       "      <th></th>\n",
       "      <th>Kommunikationskanal</th>\n",
       "      <th>Partei</th>\n",
       "      <th>Anzahl</th>\n",
       "    </tr>\n",
       "  </thead>\n",
       "  <tbody>\n",
       "    <tr>\n",
       "      <th>0</th>\n",
       "      <td>Facebook</td>\n",
       "      <td>AfD</td>\n",
       "      <td>75</td>\n",
       "    </tr>\n",
       "    <tr>\n",
       "      <th>1</th>\n",
       "      <td>Facebook</td>\n",
       "      <td>Bündnis 90/Die Grünen</td>\n",
       "      <td>102</td>\n",
       "    </tr>\n",
       "    <tr>\n",
       "      <th>2</th>\n",
       "      <td>Facebook</td>\n",
       "      <td>CDU/CSU</td>\n",
       "      <td>176</td>\n",
       "    </tr>\n",
       "    <tr>\n",
       "      <th>3</th>\n",
       "      <td>Facebook</td>\n",
       "      <td>FDP</td>\n",
       "      <td>87</td>\n",
       "    </tr>\n",
       "    <tr>\n",
       "      <th>4</th>\n",
       "      <td>Facebook</td>\n",
       "      <td>Gruppe BSW</td>\n",
       "      <td>10</td>\n",
       "    </tr>\n",
       "  </tbody>\n",
       "</table>\n",
       "</div>"
      ],
      "text/plain": [
       "  Kommunikationskanal                 Partei  Anzahl\n",
       "0            Facebook                    AfD      75\n",
       "1            Facebook  Bündnis 90/Die Grünen     102\n",
       "2            Facebook                CDU/CSU     176\n",
       "3            Facebook                    FDP      87\n",
       "4            Facebook             Gruppe BSW      10"
      ]
     },
     "execution_count": 14,
     "metadata": {},
     "output_type": "execute_result"
    }
   ],
   "source": [
    "df_long = df_long.groupby(['Social Media', 'Party'], as_index = False)['Name'].count()\n",
    "df_long = df_long.rename(columns={\"Social Media\": \"Kommunikationskanal\", \"Name\": \"Anzahl\", \"Party\" : \"Partei\"})\n",
    "df_long.head()"
   ]
  },
  {
   "cell_type": "code",
   "execution_count": 15,
   "id": "1ab458aa-9364-4909-a6a9-9c10b6eca3c8",
   "metadata": {},
   "outputs": [
    {
     "data": {
      "image/png": "[encoded data removed]",
      "text/plain": [
       "<Figure size 2211.12x800 with 9 Axes>"
      ]
     },
     "metadata": {},
     "output_type": "display_data"
    }
   ],
   "source": [
    "partei_farben ={\n",
    "    'CDU/CSU': 'black' ,\n",
    "    'SPD': '#E3000F', \n",
    "    'Bündnis 90/Die Grünen': 'darkgreen', \n",
    "    'FDP': 'yellow', \n",
    "    'AfD': 'darkgoldenrod',  \n",
    "    'Gruppe Die Linke': '#6F003C',\n",
    "    'Gruppe BSW': 'darkorange',\n",
    "    'fraktionslos':   'grey'\n",
    "}\n",
    "\n",
    "g = sns.FacetGrid(df_long, col=\"Kommunikationskanal\", \n",
    "                  col_wrap = 5, \n",
    "                  height=4, \n",
    "                  aspect=1, \n",
    "                  hue = \"Partei\", \n",
    "                  col_order = SM_order, \n",
    "                  palette = partei_farben)\n",
    "g.map(sns.barplot, \"Partei\", \"Anzahl\", order = partei_farben.keys())\n",
    "g.set_titles(col_template = '{col_name}', weight='bold')\n",
    "g.set(xticklabels=[], xlabel=None, ylabel = \"Anzahl MDBs\")\n",
    "g.add_legend(label_order = partei_farben.keys(), loc='lower right',bbox_to_anchor=(.85, 0.15))\n",
    "plt.setp(g._legend.get_title(), weight = \"bold\")\n",
    "g.tight_layout()\n",
    "for ax in g.axes: #https://stackoverflow.com/a/57256238\n",
    "    for p in ax.patches:\n",
    "             ax.annotate(\"%d\" % p.get_height(), (p.get_x() + p.get_width() / 2., p.get_height()),\n",
    "                 ha='center', va='center', color='black', xytext=(0, 5),\n",
    "                 textcoords='offset points')\n",
    "sns.set_context(\"notebook\", font_scale=1)\n",
    "g.savefig(\"MdB_kommunkation.png\")"
   ]
  }
 ],
 "metadata": {
  "kernelspec": {
   "display_name": "Python 3 (ipykernel)",
   "language": "python",
   "name": "python3"
  },
  "language_info": {
   "codemirror_mode": {
    "name": "ipython",
    "version": 3
   },
   "file_extension": ".py",
   "mimetype": "text/x-python",
   "name": "python",
   "nbconvert_exporter": "python",
   "pygments_lexer": "ipython3",
   "version": "3.12.1"
  }
 },
 "nbformat": 4,
 "nbformat_minor": 5
}
